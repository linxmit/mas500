{
 "cells": [
  {
   "cell_type": "code",
   "execution_count": 3,
   "metadata": {
    "collapsed": false
   },
   "outputs": [
    {
     "name": "stdout",
     "output_type": "stream",
     "text": [
      "15235\n"
     ]
    }
   ],
   "source": [
    "import mediacloud, datetime\n",
    "mc = mediacloud.api.MediaCloud('X')\n",
    "res = mc.sentenceCount('( Obama)', solr_filter=[mc.publish_date_query( datetime.date( 2015, 8, 1), datetime.date( 2015, 8, 31) ), 'media_sets_id:1' ])\n",
    "print res['count'] # prints the number of sentences found"
   ]
  },
  {
   "cell_type": "code",
   "execution_count": 4,
   "metadata": {
    "collapsed": false
   },
   "outputs": [
    {
     "name": "stdout",
     "output_type": "stream",
     "text": [
      "34800\n"
     ]
    }
   ],
   "source": [
    "import mediacloud, datetime\n",
    "mc = mediacloud.api.MediaCloud('X')\n",
    "res = mc.sentenceCount('( Trump)', solr_filter=[mc.publish_date_query( datetime.date( 2015, 8, 1), datetime.date( 2015, 8, 31) ), 'media_sets_id:1' ])\n",
    "print res['count'] # prints the number of sentences found"
   ]
  }
 ],
 "metadata": {
  "kernelspec": {
   "display_name": "Python 2",
   "language": "python",
   "name": "python2"
  },
  "language_info": {
   "codemirror_mode": {
    "name": "ipython",
    "version": 2
   },
   "file_extension": ".py",
   "mimetype": "text/x-python",
   "name": "python",
   "nbconvert_exporter": "python",
   "pygments_lexer": "ipython2",
   "version": "2.7.10"
  }
 },
 "nbformat": 4,
 "nbformat_minor": 0
}
